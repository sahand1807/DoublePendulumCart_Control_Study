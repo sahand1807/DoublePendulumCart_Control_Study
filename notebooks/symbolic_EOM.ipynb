{
 "cells": [
  {
   "cell_type": "markdown",
   "id": "44e4b1ce",
   "metadata": {},
   "source": [
    "# Symbolic derivation and linearization — Double Pendulum on a Cart\n",
    "\n",
    "This notebook performs a symbolic derivation of the equations of motion for a **double pendulum on a cart** using `sympy`.  \n",
    "It:\n",
    "\n",
    "- Defines parameters and generalized coordinates,\n",
    "- Computes positions and velocities of centers of mass,\n",
    "- Constructs kinetic energy $T$ and potential energy $V$,\n",
    "- Builds the Lagrangian $(\\mathcal{L}=T-V)$,\n",
    "- Derives the Euler–Lagrange equations and rearranges them into the manipulator form\n",
    "  $$\n",
    "  M(q)\\ddot q + C(q,\\dot q)\\dot q + G(q) = B u,\n",
    "  $$\n",
    "- Forms the first-order state ODE $\\dot x = f(x,u)$,\n",
    "- Computes symbolic Jacobians $A(x,u)=\\partial f/\\partial x$ and $B(x,u)=\\partial f/\\partial u$,\n",
    "- Derives linearizition at the upright equilibrium.\n"
   ]
  },
  {
   "cell_type": "code",
   "execution_count": 1,
   "id": "9f3a8907",
   "metadata": {},
   "outputs": [],
   "source": [
    "# Cell: Imports and symbols\n",
    "import sympy as sp\n",
    "import numpy as np\n",
    "import pickle\n",
    "from sympy import sin, cos, simplify\n",
    "\n",
    "# Symbolic variables for generalized coords and their derivatives\n",
    "x, th1, th2 = sp.symbols('x th1 th2')                    # positions\n",
    "dx, dth1, dth2 = sp.symbols('dx dth1 dth2')              # velocities\n",
    "ddx, ddth1, ddth2 = sp.symbols('ddx ddth1 ddth2')        # accelerations\n",
    "\n",
    "# Parameters\n",
    "M, m1, m2 = sp.symbols('M m1 m2')\n",
    "l1, lc1, lc2 = sp.symbols('l1 lc1 lc2')                  # lengths: l1 is joint distance, lc* are COM distances\n",
    "I1, I2 = sp.symbols('I1 I2')                             # rotational inertias about COM\n",
    "g = sp.symbols('g')                                      # gravity\n",
    "\n",
    "# Input\n",
    "u = sp.symbols('u')\n",
    "\n",
    "# Pack vectors\n",
    "q = sp.Matrix([x, th1, th2])\n",
    "dq = sp.Matrix([dx, dth1, dth2])\n",
    "ddq = sp.Matrix([ddx, ddth1, ddth2])\n"
   ]
  },
  {
   "cell_type": "code",
   "execution_count": 2,
   "id": "ae8c2791",
   "metadata": {},
   "outputs": [
    {
     "data": {
      "text/plain": [
       "(dth1**2*lc1**2 + 2*dth1*dx*lc1*cos(th1) + dx**2,\n",
       " dth1**2*l1**2 + 2*dth1*dth2*l1*lc2*cos(th1 - th2) + 2*dth1*dx*l1*cos(th1) + dth2**2*lc2**2 + 2*dth2*dx*lc2*cos(th2) + dx**2)"
      ]
     },
     "execution_count": 2,
     "metadata": {},
     "output_type": "execute_result"
    }
   ],
   "source": [
    "# Cell: Positions of centers of mass and Jacobians\n",
    "# COM positions (absolute angles from vertical)\n",
    "x1 = x + lc1*sp.sin(th1)\n",
    "y1 = -lc1*sp.cos(th1)\n",
    "\n",
    "x2 = x + l1*sp.sin(th1) + lc2*sp.sin(th2)\n",
    "y2 = -l1*sp.cos(th1) - lc2*sp.cos(th2)\n",
    "\n",
    "r1 = sp.Matrix([x1, y1])\n",
    "r2 = sp.Matrix([x2, y2])\n",
    "\n",
    "# Generalized coordinate vector for Jacobian usage\n",
    "q_syms = sp.Matrix([x, th1, th2])\n",
    "dq_syms = sp.Matrix([dx, dth1, dth2])\n",
    "\n",
    "# Jacobians: velocity = J * dq\n",
    "Jr1 = r1.jacobian(q_syms)\n",
    "Jr2 = r2.jacobian(q_syms)\n",
    "\n",
    "v1 = Jr1 * dq_syms\n",
    "v2 = Jr2 * dq_syms\n",
    "\n",
    "# Squared speeds (simplified)\n",
    "v1_sq = simplify(v1.dot(v1))\n",
    "v2_sq = simplify(v2.dot(v2))\n",
    "\n",
    "v1_sq, v2_sq  # show expressions\n"
   ]
  },
  {
   "cell_type": "code",
   "execution_count": 3,
   "id": "b5a02695",
   "metadata": {},
   "outputs": [],
   "source": [
    "# Cell: Kinetic and potential energy and Lagrangian\n",
    "T_cart = sp.Rational(1,2) * M * dx**2\n",
    "T1 = sp.Rational(1,2) * m1 * v1_sq + sp.Rational(1,2) * I1 * dth1**2\n",
    "T2 = sp.Rational(1,2) * m2 * v2_sq + sp.Rational(1,2) * I2 * dth2**2\n",
    "T = simplify(T_cart + T1 + T2)\n",
    "\n",
    "# Potential energy: y negative downward, so height = -y\n",
    "V1 = m1 * g * (-y1)\n",
    "V2 = m2 * g * (-y2)\n",
    "V = simplify(V1 + V2)\n",
    "\n",
    "L = simplify(T - V)\n",
    "\n"
   ]
  },
  {
   "cell_type": "code",
   "execution_count": 4,
   "id": "465163b2",
   "metadata": {},
   "outputs": [
    {
     "data": {
      "text/latex": [
       "$\\displaystyle \\left[\\begin{matrix}ddth_{1} \\left(l_{1} m_{2} + lc_{1} m_{1}\\right) \\cos{\\left(th_{1} \\right)} + ddth_{2} lc_{2} m_{2} \\cos{\\left(th_{2} \\right)} + ddx \\left(M + m_{1} + m_{2}\\right) - dth_{1}^{2} \\left(l_{1} m_{2} + lc_{1} m_{1}\\right) \\sin{\\left(th_{1} \\right)} - dth_{2}^{2} lc_{2} m_{2} \\sin{\\left(th_{2} \\right)}\\\\I_{1} ddth_{1} + ddth_{1} l_{1}^{2} m_{2} + ddth_{1} lc_{1}^{2} m_{1} + ddth_{2} l_{1} lc_{2} m_{2} \\cos{\\left(th_{1} - th_{2} \\right)} + ddx l_{1} m_{2} \\cos{\\left(th_{1} \\right)} + ddx lc_{1} m_{1} \\cos{\\left(th_{1} \\right)} + dth_{2}^{2} l_{1} lc_{2} m_{2} \\sin{\\left(th_{1} - th_{2} \\right)} - g l_{1} m_{2} \\sin{\\left(th_{1} \\right)} - g lc_{1} m_{1} \\sin{\\left(th_{1} \\right)}\\\\ddth_{1} l_{1} lc_{2} m_{2} \\cos{\\left(th_{1} - th_{2} \\right)} + ddth_{2} \\left(I_{2} + lc_{2}^{2} m_{2}\\right) + ddx lc_{2} m_{2} \\cos{\\left(th_{2} \\right)} - dth_{1}^{2} l_{1} lc_{2} m_{2} \\sin{\\left(th_{1} - th_{2} \\right)} - g lc_{2} m_{2} \\sin{\\left(th_{2} \\right)}\\end{matrix}\\right]$"
      ],
      "text/plain": [
       "Matrix([\n",
       "[                                                        ddth1*(l1*m2 + lc1*m1)*cos(th1) + ddth2*lc2*m2*cos(th2) + ddx*(M + m1 + m2) - dth1**2*(l1*m2 + lc1*m1)*sin(th1) - dth2**2*lc2*m2*sin(th2)],\n",
       "[I1*ddth1 + ddth1*l1**2*m2 + ddth1*lc1**2*m1 + ddth2*l1*lc2*m2*cos(th1 - th2) + ddx*l1*m2*cos(th1) + ddx*lc1*m1*cos(th1) + dth2**2*l1*lc2*m2*sin(th1 - th2) - g*l1*m2*sin(th1) - g*lc1*m1*sin(th1)],\n",
       "[                                                             ddth1*l1*lc2*m2*cos(th1 - th2) + ddth2*(I2 + lc2**2*m2) + ddx*lc2*m2*cos(th2) - dth1**2*l1*lc2*m2*sin(th1 - th2) - g*lc2*m2*sin(th2)]])"
      ]
     },
     "execution_count": 4,
     "metadata": {},
     "output_type": "execute_result"
    }
   ],
   "source": [
    "# --- Compute derivatives ---\n",
    "dL_dq  = sp.Matrix([sp.diff(L, q) for q in q_syms])\n",
    "dL_ddq = sp.Matrix([sp.diff(L, dq) for dq in dq_syms])\n",
    "\n",
    "# Time derivative of dL_ddq using chain rule\n",
    "d_dt_dL_ddq = sp.Matrix([\n",
    "    sum(sp.diff(dL_ddq[i], q_syms[j]) * dq_syms[j] for j in range(3)) +\n",
    "    sum(sp.diff(dL_ddq[i], dq_syms[j]) * ddq[j] for j in range(3))\n",
    "    for i in range(3)\n",
    "])\n",
    "\n",
    "# Euler–Lagrange equations\n",
    "EOM = sp.simplify(d_dt_dL_ddq - dL_dq)\n",
    "EOM\n"
   ]
  },
  {
   "cell_type": "code",
   "execution_count": 5,
   "id": "ba9eef30",
   "metadata": {},
   "outputs": [
    {
     "data": {
      "text/plain": [
       "(Matrix([\n",
       " [              M + m1 + m2, (l1*m2 + lc1*m1)*cos(th1),          lc2*m2*cos(th2)],\n",
       " [(l1*m2 + lc1*m1)*cos(th1), I1 + l1**2*m2 + lc1**2*m1, l1*lc2*m2*cos(th1 - th2)],\n",
       " [          lc2*m2*cos(th2),  l1*lc2*m2*cos(th1 - th2),           I2 + lc2**2*m2]]),\n",
       " Matrix([\n",
       " [-dth1**2*l1*m2*sin(th1) - dth1**2*lc1*m1*sin(th1) - dth2**2*lc2*m2*sin(th2)],\n",
       " [    dth2**2*l1*lc2*m2*sin(th1 - th2) - g*l1*m2*sin(th1) - g*lc1*m1*sin(th1)],\n",
       " [                           -lc2*m2*(dth1**2*l1*sin(th1 - th2) + g*sin(th2))]]))"
      ]
     },
     "execution_count": 5,
     "metadata": {},
     "output_type": "execute_result"
    }
   ],
   "source": [
    "# Extract M and H \n",
    "\n",
    "ddq_syms = [ddx, ddth1, ddth2]\n",
    "\n",
    "# Build M matrix by extracting coefficients of accelerations\n",
    "M_mat = sp.zeros(3, 3)\n",
    "H_vec  = sp.zeros(3, 1)\n",
    "for i in range(3):\n",
    "    expr = sp.expand(EOM[i])         # EOM[i] symbolic expression\n",
    "    for j, dd_sym in enumerate(ddq_syms):\n",
    "        coeff = sp.simplify(sp.diff(expr, dd_sym))\n",
    "        M_mat[i, j] = coeff\n",
    "    # remainder after subtracting M*ddq terms\n",
    "    H_vec[i] = sp.simplify(expr - sum(M_mat[i, j] * ddq_syms[j] for j in range(3)))\n",
    "\n",
    "# Optional: simplify\n",
    "M_mat = sp.simplify(M_mat)\n",
    "H_vec  = sp.simplify(H_vec)\n",
    "\n",
    "# Quick display\n",
    "M_mat, H_vec\n"
   ]
  }
 ],
 "metadata": {
  "kernelspec": {
   "display_name": ".venv",
   "language": "python",
   "name": "python3"
  },
  "language_info": {
   "codemirror_mode": {
    "name": "ipython",
    "version": 3
   },
   "file_extension": ".py",
   "mimetype": "text/x-python",
   "name": "python",
   "nbconvert_exporter": "python",
   "pygments_lexer": "ipython3",
   "version": "3.13.7"
  }
 },
 "nbformat": 4,
 "nbformat_minor": 5
}
